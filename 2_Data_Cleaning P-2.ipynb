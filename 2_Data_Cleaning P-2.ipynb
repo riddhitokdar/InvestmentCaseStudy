{
 "cells": [
  {
   "cell_type": "code",
   "execution_count": 2,
   "id": "3ca4cac2",
   "metadata": {},
   "outputs": [],
   "source": [
    "#import necessary libraries\n",
    "import numpy as np\n",
    "import pandas as pd\n",
    "import matplotlib.pyplot as plt\n",
    "%matplotlib inline"
   ]
  },
  {
   "cell_type": "code",
   "execution_count": 30,
   "id": "9fffcc8f",
   "metadata": {},
   "outputs": [],
   "source": [
    "import seaborn as sns"
   ]
  },
  {
   "cell_type": "code",
   "execution_count": 3,
   "id": "e35390ef",
   "metadata": {},
   "outputs": [],
   "source": [
    "company=pd.read_csv('companies_clean.csv')"
   ]
  },
  {
   "cell_type": "code",
   "execution_count": 4,
   "id": "1de02613",
   "metadata": {},
   "outputs": [],
   "source": [
    "round2=pd.read_csv('rounds_clean.csv')"
   ]
  },
  {
   "cell_type": "code",
   "execution_count": 5,
   "id": "fedb2f8d",
   "metadata": {},
   "outputs": [
    {
     "data": {
      "text/html": [
       "<div>\n",
       "<style scoped>\n",
       "    .dataframe tbody tr th:only-of-type {\n",
       "        vertical-align: middle;\n",
       "    }\n",
       "\n",
       "    .dataframe tbody tr th {\n",
       "        vertical-align: top;\n",
       "    }\n",
       "\n",
       "    .dataframe thead th {\n",
       "        text-align: right;\n",
       "    }\n",
       "</style>\n",
       "<table border=\"1\" class=\"dataframe\">\n",
       "  <thead>\n",
       "    <tr style=\"text-align: right;\">\n",
       "      <th></th>\n",
       "      <th>permalink</th>\n",
       "      <th>name</th>\n",
       "      <th>homepage_url</th>\n",
       "      <th>category_list</th>\n",
       "      <th>status</th>\n",
       "      <th>country_code</th>\n",
       "      <th>state_code</th>\n",
       "      <th>region</th>\n",
       "      <th>city</th>\n",
       "      <th>founded_at</th>\n",
       "    </tr>\n",
       "  </thead>\n",
       "  <tbody>\n",
       "    <tr>\n",
       "      <th>0</th>\n",
       "      <td>/organization/-fame</td>\n",
       "      <td>#fame</td>\n",
       "      <td>http://livfame.com</td>\n",
       "      <td>Media</td>\n",
       "      <td>operating</td>\n",
       "      <td>IND</td>\n",
       "      <td>16</td>\n",
       "      <td>Mumbai</td>\n",
       "      <td>Mumbai</td>\n",
       "      <td>NaN</td>\n",
       "    </tr>\n",
       "    <tr>\n",
       "      <th>1</th>\n",
       "      <td>/organization/-qounter</td>\n",
       "      <td>:Qounter</td>\n",
       "      <td>http://www.qounter.com</td>\n",
       "      <td>Application Platforms|Real Time|Social Network...</td>\n",
       "      <td>operating</td>\n",
       "      <td>USA</td>\n",
       "      <td>DE</td>\n",
       "      <td>DE - Other</td>\n",
       "      <td>Delaware City</td>\n",
       "      <td>04-09-2014</td>\n",
       "    </tr>\n",
       "    <tr>\n",
       "      <th>2</th>\n",
       "      <td>/organization/-the-one-of-them-inc-</td>\n",
       "      <td>(THE) ONE of THEM,Inc.</td>\n",
       "      <td>http://oneofthem.jp</td>\n",
       "      <td>Apps|Games|Mobile</td>\n",
       "      <td>operating</td>\n",
       "      <td>NaN</td>\n",
       "      <td>NaN</td>\n",
       "      <td>NaN</td>\n",
       "      <td>NaN</td>\n",
       "      <td>NaN</td>\n",
       "    </tr>\n",
       "    <tr>\n",
       "      <th>3</th>\n",
       "      <td>/organization/0-6-com</td>\n",
       "      <td>0-6.com</td>\n",
       "      <td>http://www.0-6.com</td>\n",
       "      <td>Curated Web</td>\n",
       "      <td>operating</td>\n",
       "      <td>CHN</td>\n",
       "      <td>22</td>\n",
       "      <td>Beijing</td>\n",
       "      <td>Beijing</td>\n",
       "      <td>01-01-2007</td>\n",
       "    </tr>\n",
       "    <tr>\n",
       "      <th>4</th>\n",
       "      <td>/organization/004-technologies</td>\n",
       "      <td>004 Technologies</td>\n",
       "      <td>http://004gmbh.de/en/004-interact</td>\n",
       "      <td>Software</td>\n",
       "      <td>operating</td>\n",
       "      <td>USA</td>\n",
       "      <td>IL</td>\n",
       "      <td>Springfield, Illinois</td>\n",
       "      <td>Champaign</td>\n",
       "      <td>01-01-2010</td>\n",
       "    </tr>\n",
       "  </tbody>\n",
       "</table>\n",
       "</div>"
      ],
      "text/plain": [
       "                             permalink                    name  \\\n",
       "0                  /organization/-fame                   #fame   \n",
       "1               /organization/-qounter                :Qounter   \n",
       "2  /organization/-the-one-of-them-inc-  (THE) ONE of THEM,Inc.   \n",
       "3                /organization/0-6-com                 0-6.com   \n",
       "4       /organization/004-technologies        004 Technologies   \n",
       "\n",
       "                        homepage_url  \\\n",
       "0                 http://livfame.com   \n",
       "1             http://www.qounter.com   \n",
       "2                http://oneofthem.jp   \n",
       "3                 http://www.0-6.com   \n",
       "4  http://004gmbh.de/en/004-interact   \n",
       "\n",
       "                                       category_list     status country_code  \\\n",
       "0                                              Media  operating          IND   \n",
       "1  Application Platforms|Real Time|Social Network...  operating          USA   \n",
       "2                                  Apps|Games|Mobile  operating          NaN   \n",
       "3                                        Curated Web  operating          CHN   \n",
       "4                                           Software  operating          USA   \n",
       "\n",
       "  state_code                 region           city  founded_at  \n",
       "0         16                 Mumbai         Mumbai         NaN  \n",
       "1         DE             DE - Other  Delaware City  04-09-2014  \n",
       "2        NaN                    NaN            NaN         NaN  \n",
       "3         22                Beijing        Beijing  01-01-2007  \n",
       "4         IL  Springfield, Illinois      Champaign  01-01-2010  "
      ]
     },
     "execution_count": 5,
     "metadata": {},
     "output_type": "execute_result"
    }
   ],
   "source": [
    "company.head()"
   ]
  },
  {
   "cell_type": "code",
   "execution_count": 6,
   "id": "73b0ee7c",
   "metadata": {},
   "outputs": [
    {
     "data": {
      "text/html": [
       "<div>\n",
       "<style scoped>\n",
       "    .dataframe tbody tr th:only-of-type {\n",
       "        vertical-align: middle;\n",
       "    }\n",
       "\n",
       "    .dataframe tbody tr th {\n",
       "        vertical-align: top;\n",
       "    }\n",
       "\n",
       "    .dataframe thead th {\n",
       "        text-align: right;\n",
       "    }\n",
       "</style>\n",
       "<table border=\"1\" class=\"dataframe\">\n",
       "  <thead>\n",
       "    <tr style=\"text-align: right;\">\n",
       "      <th></th>\n",
       "      <th>company_permalink</th>\n",
       "      <th>funding_round_permalink</th>\n",
       "      <th>funding_round_type</th>\n",
       "      <th>funding_round_code</th>\n",
       "      <th>funded_at</th>\n",
       "      <th>raised_amount_usd</th>\n",
       "    </tr>\n",
       "  </thead>\n",
       "  <tbody>\n",
       "    <tr>\n",
       "      <th>0</th>\n",
       "      <td>/organization/-fame</td>\n",
       "      <td>/funding-round/9a01d05418af9f794eebff7ace91f638</td>\n",
       "      <td>venture</td>\n",
       "      <td>B</td>\n",
       "      <td>2015-05-01</td>\n",
       "      <td>10000000.0</td>\n",
       "    </tr>\n",
       "    <tr>\n",
       "      <th>1</th>\n",
       "      <td>/organization/-qounter</td>\n",
       "      <td>/funding-round/22dacff496eb7acb2b901dec1dfe5633</td>\n",
       "      <td>venture</td>\n",
       "      <td>A</td>\n",
       "      <td>2014-10-14</td>\n",
       "      <td>NaN</td>\n",
       "    </tr>\n",
       "    <tr>\n",
       "      <th>2</th>\n",
       "      <td>/organization/-qounter</td>\n",
       "      <td>/funding-round/b44fbb94153f6cdef13083530bb48030</td>\n",
       "      <td>seed</td>\n",
       "      <td>NaN</td>\n",
       "      <td>2014-01-03</td>\n",
       "      <td>700000.0</td>\n",
       "    </tr>\n",
       "    <tr>\n",
       "      <th>3</th>\n",
       "      <td>/organization/-the-one-of-them-inc-</td>\n",
       "      <td>/funding-round/650b8f704416801069bb178a1418776b</td>\n",
       "      <td>venture</td>\n",
       "      <td>B</td>\n",
       "      <td>2014-01-30</td>\n",
       "      <td>3406878.0</td>\n",
       "    </tr>\n",
       "    <tr>\n",
       "      <th>4</th>\n",
       "      <td>/organization/0-6-com</td>\n",
       "      <td>/funding-round/5727accaeaa57461bd22a9bdd945382d</td>\n",
       "      <td>venture</td>\n",
       "      <td>A</td>\n",
       "      <td>2008-03-19</td>\n",
       "      <td>2000000.0</td>\n",
       "    </tr>\n",
       "  </tbody>\n",
       "</table>\n",
       "</div>"
      ],
      "text/plain": [
       "                     company_permalink  \\\n",
       "0                  /organization/-fame   \n",
       "1               /organization/-qounter   \n",
       "2               /organization/-qounter   \n",
       "3  /organization/-the-one-of-them-inc-   \n",
       "4                /organization/0-6-com   \n",
       "\n",
       "                           funding_round_permalink funding_round_type  \\\n",
       "0  /funding-round/9a01d05418af9f794eebff7ace91f638            venture   \n",
       "1  /funding-round/22dacff496eb7acb2b901dec1dfe5633            venture   \n",
       "2  /funding-round/b44fbb94153f6cdef13083530bb48030               seed   \n",
       "3  /funding-round/650b8f704416801069bb178a1418776b            venture   \n",
       "4  /funding-round/5727accaeaa57461bd22a9bdd945382d            venture   \n",
       "\n",
       "  funding_round_code   funded_at  raised_amount_usd  \n",
       "0                  B  2015-05-01         10000000.0  \n",
       "1                  A  2014-10-14                NaN  \n",
       "2                NaN  2014-01-03           700000.0  \n",
       "3                  B  2014-01-30          3406878.0  \n",
       "4                  A  2008-03-19          2000000.0  "
      ]
     },
     "execution_count": 6,
     "metadata": {},
     "output_type": "execute_result"
    }
   ],
   "source": [
    "round2.head()"
   ]
  },
  {
   "cell_type": "code",
   "execution_count": 8,
   "id": "cef696e3",
   "metadata": {},
   "outputs": [
    {
     "name": "stdout",
     "output_type": "stream",
     "text": [
      "company permalink unique: 66368\n",
      "round2 permalink unique: 66368\n"
     ]
    }
   ],
   "source": [
    "#check number of unique values\n",
    "print(\"company permalink unique:\", company.permalink.nunique())\n",
    "print(\"round2 permalink unique:\", round2.company_permalink.nunique())"
   ]
  },
  {
   "cell_type": "code",
   "execution_count": 9,
   "id": "d948d501",
   "metadata": {},
   "outputs": [
    {
     "name": "stdout",
     "output_type": "stream",
     "text": [
      "0\n"
     ]
    }
   ],
   "source": [
    "# present in rounds but not in companies\n",
    "print(len(round2.loc[~round2['company_permalink'].isin(company['permalink']), :]))"
   ]
  },
  {
   "cell_type": "code",
   "execution_count": 10,
   "id": "da41f655",
   "metadata": {},
   "outputs": [
    {
     "name": "stdout",
     "output_type": "stream",
     "text": [
      "0\n"
     ]
    }
   ],
   "source": [
    "# present in companies but not in round2\n",
    "print(len(company.loc[~company['permalink'].isin(round2['company_permalink']), :]))"
   ]
  },
  {
   "cell_type": "markdown",
   "id": "cc1465d1",
   "metadata": {},
   "source": [
    "## Handle Missing Values"
   ]
  },
  {
   "cell_type": "code",
   "execution_count": 12,
   "id": "f1a2aa4d",
   "metadata": {},
   "outputs": [
    {
     "data": {
      "text/plain": [
       "permalink            0\n",
       "name                 1\n",
       "homepage_url      5058\n",
       "category_list     3148\n",
       "status               0\n",
       "country_code      6958\n",
       "state_code        8547\n",
       "region            8030\n",
       "city              8028\n",
       "founded_at       15221\n",
       "dtype: int64"
      ]
     },
     "execution_count": 12,
     "metadata": {},
     "output_type": "execute_result"
    }
   ],
   "source": [
    "#missing values in company\n",
    "company.isnull().sum()"
   ]
  },
  {
   "cell_type": "code",
   "execution_count": 13,
   "id": "e6ec29fc",
   "metadata": {},
   "outputs": [
    {
     "data": {
      "text/plain": [
       "company_permalink              0\n",
       "funding_round_permalink        0\n",
       "funding_round_type             0\n",
       "funding_round_code         83809\n",
       "funded_at                      0\n",
       "raised_amount_usd          19990\n",
       "dtype: int64"
      ]
     },
     "execution_count": 13,
     "metadata": {},
     "output_type": "execute_result"
    }
   ],
   "source": [
    "#missing value in round2\n",
    "round2.isnull().sum()"
   ]
  },
  {
   "cell_type": "markdown",
   "id": "d3edb5a0",
   "metadata": {},
   "source": [
    "There is no missing value for permalink. So we can join the dfs using permalink and company_permalink as key.\n",
    "Note that the name of the column is different in the two tables. We can either rename them to same name or we can follow the below step so that they both appear and drop one of the column"
   ]
  },
  {
   "cell_type": "code",
   "execution_count": 15,
   "id": "595167dc",
   "metadata": {},
   "outputs": [],
   "source": [
    "master=pd.merge(company,round2,how=\"inner\",left_on=\"permalink\",right_on=\"company_permalink\")"
   ]
  },
  {
   "cell_type": "code",
   "execution_count": 16,
   "id": "1d9ba8a9",
   "metadata": {},
   "outputs": [
    {
     "data": {
      "text/html": [
       "<div>\n",
       "<style scoped>\n",
       "    .dataframe tbody tr th:only-of-type {\n",
       "        vertical-align: middle;\n",
       "    }\n",
       "\n",
       "    .dataframe tbody tr th {\n",
       "        vertical-align: top;\n",
       "    }\n",
       "\n",
       "    .dataframe thead th {\n",
       "        text-align: right;\n",
       "    }\n",
       "</style>\n",
       "<table border=\"1\" class=\"dataframe\">\n",
       "  <thead>\n",
       "    <tr style=\"text-align: right;\">\n",
       "      <th></th>\n",
       "      <th>permalink</th>\n",
       "      <th>name</th>\n",
       "      <th>homepage_url</th>\n",
       "      <th>category_list</th>\n",
       "      <th>status</th>\n",
       "      <th>country_code</th>\n",
       "      <th>state_code</th>\n",
       "      <th>region</th>\n",
       "      <th>city</th>\n",
       "      <th>founded_at</th>\n",
       "      <th>company_permalink</th>\n",
       "      <th>funding_round_permalink</th>\n",
       "      <th>funding_round_type</th>\n",
       "      <th>funding_round_code</th>\n",
       "      <th>funded_at</th>\n",
       "      <th>raised_amount_usd</th>\n",
       "    </tr>\n",
       "  </thead>\n",
       "  <tbody>\n",
       "    <tr>\n",
       "      <th>0</th>\n",
       "      <td>/organization/-fame</td>\n",
       "      <td>#fame</td>\n",
       "      <td>http://livfame.com</td>\n",
       "      <td>Media</td>\n",
       "      <td>operating</td>\n",
       "      <td>IND</td>\n",
       "      <td>16</td>\n",
       "      <td>Mumbai</td>\n",
       "      <td>Mumbai</td>\n",
       "      <td>NaN</td>\n",
       "      <td>/organization/-fame</td>\n",
       "      <td>/funding-round/9a01d05418af9f794eebff7ace91f638</td>\n",
       "      <td>venture</td>\n",
       "      <td>B</td>\n",
       "      <td>2015-05-01</td>\n",
       "      <td>10000000.0</td>\n",
       "    </tr>\n",
       "    <tr>\n",
       "      <th>1</th>\n",
       "      <td>/organization/-qounter</td>\n",
       "      <td>:Qounter</td>\n",
       "      <td>http://www.qounter.com</td>\n",
       "      <td>Application Platforms|Real Time|Social Network...</td>\n",
       "      <td>operating</td>\n",
       "      <td>USA</td>\n",
       "      <td>DE</td>\n",
       "      <td>DE - Other</td>\n",
       "      <td>Delaware City</td>\n",
       "      <td>04-09-2014</td>\n",
       "      <td>/organization/-qounter</td>\n",
       "      <td>/funding-round/22dacff496eb7acb2b901dec1dfe5633</td>\n",
       "      <td>venture</td>\n",
       "      <td>A</td>\n",
       "      <td>2014-10-14</td>\n",
       "      <td>NaN</td>\n",
       "    </tr>\n",
       "    <tr>\n",
       "      <th>2</th>\n",
       "      <td>/organization/-qounter</td>\n",
       "      <td>:Qounter</td>\n",
       "      <td>http://www.qounter.com</td>\n",
       "      <td>Application Platforms|Real Time|Social Network...</td>\n",
       "      <td>operating</td>\n",
       "      <td>USA</td>\n",
       "      <td>DE</td>\n",
       "      <td>DE - Other</td>\n",
       "      <td>Delaware City</td>\n",
       "      <td>04-09-2014</td>\n",
       "      <td>/organization/-qounter</td>\n",
       "      <td>/funding-round/b44fbb94153f6cdef13083530bb48030</td>\n",
       "      <td>seed</td>\n",
       "      <td>NaN</td>\n",
       "      <td>2014-01-03</td>\n",
       "      <td>700000.0</td>\n",
       "    </tr>\n",
       "    <tr>\n",
       "      <th>3</th>\n",
       "      <td>/organization/-the-one-of-them-inc-</td>\n",
       "      <td>(THE) ONE of THEM,Inc.</td>\n",
       "      <td>http://oneofthem.jp</td>\n",
       "      <td>Apps|Games|Mobile</td>\n",
       "      <td>operating</td>\n",
       "      <td>NaN</td>\n",
       "      <td>NaN</td>\n",
       "      <td>NaN</td>\n",
       "      <td>NaN</td>\n",
       "      <td>NaN</td>\n",
       "      <td>/organization/-the-one-of-them-inc-</td>\n",
       "      <td>/funding-round/650b8f704416801069bb178a1418776b</td>\n",
       "      <td>venture</td>\n",
       "      <td>B</td>\n",
       "      <td>2014-01-30</td>\n",
       "      <td>3406878.0</td>\n",
       "    </tr>\n",
       "    <tr>\n",
       "      <th>4</th>\n",
       "      <td>/organization/0-6-com</td>\n",
       "      <td>0-6.com</td>\n",
       "      <td>http://www.0-6.com</td>\n",
       "      <td>Curated Web</td>\n",
       "      <td>operating</td>\n",
       "      <td>CHN</td>\n",
       "      <td>22</td>\n",
       "      <td>Beijing</td>\n",
       "      <td>Beijing</td>\n",
       "      <td>01-01-2007</td>\n",
       "      <td>/organization/0-6-com</td>\n",
       "      <td>/funding-round/5727accaeaa57461bd22a9bdd945382d</td>\n",
       "      <td>venture</td>\n",
       "      <td>A</td>\n",
       "      <td>2008-03-19</td>\n",
       "      <td>2000000.0</td>\n",
       "    </tr>\n",
       "  </tbody>\n",
       "</table>\n",
       "</div>"
      ],
      "text/plain": [
       "                             permalink                    name  \\\n",
       "0                  /organization/-fame                   #fame   \n",
       "1               /organization/-qounter                :Qounter   \n",
       "2               /organization/-qounter                :Qounter   \n",
       "3  /organization/-the-one-of-them-inc-  (THE) ONE of THEM,Inc.   \n",
       "4                /organization/0-6-com                 0-6.com   \n",
       "\n",
       "             homepage_url                                      category_list  \\\n",
       "0      http://livfame.com                                              Media   \n",
       "1  http://www.qounter.com  Application Platforms|Real Time|Social Network...   \n",
       "2  http://www.qounter.com  Application Platforms|Real Time|Social Network...   \n",
       "3     http://oneofthem.jp                                  Apps|Games|Mobile   \n",
       "4      http://www.0-6.com                                        Curated Web   \n",
       "\n",
       "      status country_code state_code      region           city  founded_at  \\\n",
       "0  operating          IND         16      Mumbai         Mumbai         NaN   \n",
       "1  operating          USA         DE  DE - Other  Delaware City  04-09-2014   \n",
       "2  operating          USA         DE  DE - Other  Delaware City  04-09-2014   \n",
       "3  operating          NaN        NaN         NaN            NaN         NaN   \n",
       "4  operating          CHN         22     Beijing        Beijing  01-01-2007   \n",
       "\n",
       "                     company_permalink  \\\n",
       "0                  /organization/-fame   \n",
       "1               /organization/-qounter   \n",
       "2               /organization/-qounter   \n",
       "3  /organization/-the-one-of-them-inc-   \n",
       "4                /organization/0-6-com   \n",
       "\n",
       "                           funding_round_permalink funding_round_type  \\\n",
       "0  /funding-round/9a01d05418af9f794eebff7ace91f638            venture   \n",
       "1  /funding-round/22dacff496eb7acb2b901dec1dfe5633            venture   \n",
       "2  /funding-round/b44fbb94153f6cdef13083530bb48030               seed   \n",
       "3  /funding-round/650b8f704416801069bb178a1418776b            venture   \n",
       "4  /funding-round/5727accaeaa57461bd22a9bdd945382d            venture   \n",
       "\n",
       "  funding_round_code   funded_at  raised_amount_usd  \n",
       "0                  B  2015-05-01         10000000.0  \n",
       "1                  A  2014-10-14                NaN  \n",
       "2                NaN  2014-01-03           700000.0  \n",
       "3                  B  2014-01-30          3406878.0  \n",
       "4                  A  2008-03-19          2000000.0  "
      ]
     },
     "execution_count": 16,
     "metadata": {},
     "output_type": "execute_result"
    }
   ],
   "source": [
    "master.head()"
   ]
  },
  {
   "cell_type": "code",
   "execution_count": 18,
   "id": "5007df53",
   "metadata": {},
   "outputs": [],
   "source": [
    "#drop one of the permalink related column\n",
    "master.drop(columns=\"company_permalink\",inplace=True)"
   ]
  },
  {
   "cell_type": "code",
   "execution_count": 20,
   "id": "2b2f46a9",
   "metadata": {},
   "outputs": [
    {
     "data": {
      "text/html": [
       "<div>\n",
       "<style scoped>\n",
       "    .dataframe tbody tr th:only-of-type {\n",
       "        vertical-align: middle;\n",
       "    }\n",
       "\n",
       "    .dataframe tbody tr th {\n",
       "        vertical-align: top;\n",
       "    }\n",
       "\n",
       "    .dataframe thead th {\n",
       "        text-align: right;\n",
       "    }\n",
       "</style>\n",
       "<table border=\"1\" class=\"dataframe\">\n",
       "  <thead>\n",
       "    <tr style=\"text-align: right;\">\n",
       "      <th></th>\n",
       "      <th>permalink</th>\n",
       "      <th>name</th>\n",
       "      <th>homepage_url</th>\n",
       "      <th>category_list</th>\n",
       "      <th>status</th>\n",
       "      <th>country_code</th>\n",
       "      <th>state_code</th>\n",
       "      <th>region</th>\n",
       "      <th>city</th>\n",
       "      <th>founded_at</th>\n",
       "      <th>funding_round_permalink</th>\n",
       "      <th>funding_round_type</th>\n",
       "      <th>funding_round_code</th>\n",
       "      <th>funded_at</th>\n",
       "      <th>raised_amount_usd</th>\n",
       "    </tr>\n",
       "  </thead>\n",
       "  <tbody>\n",
       "    <tr>\n",
       "      <th>0</th>\n",
       "      <td>/organization/-fame</td>\n",
       "      <td>#fame</td>\n",
       "      <td>http://livfame.com</td>\n",
       "      <td>Media</td>\n",
       "      <td>operating</td>\n",
       "      <td>IND</td>\n",
       "      <td>16</td>\n",
       "      <td>Mumbai</td>\n",
       "      <td>Mumbai</td>\n",
       "      <td>NaN</td>\n",
       "      <td>/funding-round/9a01d05418af9f794eebff7ace91f638</td>\n",
       "      <td>venture</td>\n",
       "      <td>B</td>\n",
       "      <td>2015-05-01</td>\n",
       "      <td>10000000.0</td>\n",
       "    </tr>\n",
       "    <tr>\n",
       "      <th>1</th>\n",
       "      <td>/organization/-qounter</td>\n",
       "      <td>:Qounter</td>\n",
       "      <td>http://www.qounter.com</td>\n",
       "      <td>Application Platforms|Real Time|Social Network...</td>\n",
       "      <td>operating</td>\n",
       "      <td>USA</td>\n",
       "      <td>DE</td>\n",
       "      <td>DE - Other</td>\n",
       "      <td>Delaware City</td>\n",
       "      <td>04-09-2014</td>\n",
       "      <td>/funding-round/22dacff496eb7acb2b901dec1dfe5633</td>\n",
       "      <td>venture</td>\n",
       "      <td>A</td>\n",
       "      <td>2014-10-14</td>\n",
       "      <td>NaN</td>\n",
       "    </tr>\n",
       "    <tr>\n",
       "      <th>2</th>\n",
       "      <td>/organization/-qounter</td>\n",
       "      <td>:Qounter</td>\n",
       "      <td>http://www.qounter.com</td>\n",
       "      <td>Application Platforms|Real Time|Social Network...</td>\n",
       "      <td>operating</td>\n",
       "      <td>USA</td>\n",
       "      <td>DE</td>\n",
       "      <td>DE - Other</td>\n",
       "      <td>Delaware City</td>\n",
       "      <td>04-09-2014</td>\n",
       "      <td>/funding-round/b44fbb94153f6cdef13083530bb48030</td>\n",
       "      <td>seed</td>\n",
       "      <td>NaN</td>\n",
       "      <td>2014-01-03</td>\n",
       "      <td>700000.0</td>\n",
       "    </tr>\n",
       "    <tr>\n",
       "      <th>3</th>\n",
       "      <td>/organization/-the-one-of-them-inc-</td>\n",
       "      <td>(THE) ONE of THEM,Inc.</td>\n",
       "      <td>http://oneofthem.jp</td>\n",
       "      <td>Apps|Games|Mobile</td>\n",
       "      <td>operating</td>\n",
       "      <td>NaN</td>\n",
       "      <td>NaN</td>\n",
       "      <td>NaN</td>\n",
       "      <td>NaN</td>\n",
       "      <td>NaN</td>\n",
       "      <td>/funding-round/650b8f704416801069bb178a1418776b</td>\n",
       "      <td>venture</td>\n",
       "      <td>B</td>\n",
       "      <td>2014-01-30</td>\n",
       "      <td>3406878.0</td>\n",
       "    </tr>\n",
       "    <tr>\n",
       "      <th>4</th>\n",
       "      <td>/organization/0-6-com</td>\n",
       "      <td>0-6.com</td>\n",
       "      <td>http://www.0-6.com</td>\n",
       "      <td>Curated Web</td>\n",
       "      <td>operating</td>\n",
       "      <td>CHN</td>\n",
       "      <td>22</td>\n",
       "      <td>Beijing</td>\n",
       "      <td>Beijing</td>\n",
       "      <td>01-01-2007</td>\n",
       "      <td>/funding-round/5727accaeaa57461bd22a9bdd945382d</td>\n",
       "      <td>venture</td>\n",
       "      <td>A</td>\n",
       "      <td>2008-03-19</td>\n",
       "      <td>2000000.0</td>\n",
       "    </tr>\n",
       "  </tbody>\n",
       "</table>\n",
       "</div>"
      ],
      "text/plain": [
       "                             permalink                    name  \\\n",
       "0                  /organization/-fame                   #fame   \n",
       "1               /organization/-qounter                :Qounter   \n",
       "2               /organization/-qounter                :Qounter   \n",
       "3  /organization/-the-one-of-them-inc-  (THE) ONE of THEM,Inc.   \n",
       "4                /organization/0-6-com                 0-6.com   \n",
       "\n",
       "             homepage_url                                      category_list  \\\n",
       "0      http://livfame.com                                              Media   \n",
       "1  http://www.qounter.com  Application Platforms|Real Time|Social Network...   \n",
       "2  http://www.qounter.com  Application Platforms|Real Time|Social Network...   \n",
       "3     http://oneofthem.jp                                  Apps|Games|Mobile   \n",
       "4      http://www.0-6.com                                        Curated Web   \n",
       "\n",
       "      status country_code state_code      region           city  founded_at  \\\n",
       "0  operating          IND         16      Mumbai         Mumbai         NaN   \n",
       "1  operating          USA         DE  DE - Other  Delaware City  04-09-2014   \n",
       "2  operating          USA         DE  DE - Other  Delaware City  04-09-2014   \n",
       "3  operating          NaN        NaN         NaN            NaN         NaN   \n",
       "4  operating          CHN         22     Beijing        Beijing  01-01-2007   \n",
       "\n",
       "                           funding_round_permalink funding_round_type  \\\n",
       "0  /funding-round/9a01d05418af9f794eebff7ace91f638            venture   \n",
       "1  /funding-round/22dacff496eb7acb2b901dec1dfe5633            venture   \n",
       "2  /funding-round/b44fbb94153f6cdef13083530bb48030               seed   \n",
       "3  /funding-round/650b8f704416801069bb178a1418776b            venture   \n",
       "4  /funding-round/5727accaeaa57461bd22a9bdd945382d            venture   \n",
       "\n",
       "  funding_round_code   funded_at  raised_amount_usd  \n",
       "0                  B  2015-05-01         10000000.0  \n",
       "1                  A  2014-10-14                NaN  \n",
       "2                NaN  2014-01-03           700000.0  \n",
       "3                  B  2014-01-30          3406878.0  \n",
       "4                  A  2008-03-19          2000000.0  "
      ]
     },
     "execution_count": 20,
     "metadata": {},
     "output_type": "execute_result"
    }
   ],
   "source": [
    "master.head()"
   ]
  },
  {
   "cell_type": "code",
   "execution_count": 21,
   "id": "afddaf44",
   "metadata": {},
   "outputs": [
    {
     "data": {
      "text/plain": [
       "permalink                      0\n",
       "name                           1\n",
       "homepage_url                6134\n",
       "category_list               3410\n",
       "status                         0\n",
       "country_code                8678\n",
       "state_code                 10946\n",
       "region                     10167\n",
       "city                       10164\n",
       "founded_at                 20521\n",
       "funding_round_permalink        0\n",
       "funding_round_type             0\n",
       "funding_round_code         83809\n",
       "funded_at                      0\n",
       "raised_amount_usd          19990\n",
       "dtype: int64"
      ]
     },
     "execution_count": 21,
     "metadata": {},
     "output_type": "execute_result"
    }
   ],
   "source": [
    "# column-wise missing values \n",
    "master.isnull().sum()"
   ]
  },
  {
   "cell_type": "code",
   "execution_count": 22,
   "id": "dc3d345e",
   "metadata": {},
   "outputs": [
    {
     "data": {
      "text/plain": [
       "permalink                   0.00\n",
       "name                        0.00\n",
       "homepage_url                5.34\n",
       "category_list               2.97\n",
       "status                      0.00\n",
       "country_code                7.55\n",
       "state_code                  9.52\n",
       "region                      8.84\n",
       "city                        8.84\n",
       "founded_at                 17.85\n",
       "funding_round_permalink     0.00\n",
       "funding_round_type          0.00\n",
       "funding_round_code         72.91\n",
       "funded_at                   0.00\n",
       "raised_amount_usd          17.39\n",
       "dtype: float64"
      ]
     },
     "execution_count": 22,
     "metadata": {},
     "output_type": "execute_result"
    }
   ],
   "source": [
    "# summing up the missing values (column-wise) and displaying fraction of NaNs\n",
    "round(100*(master.isnull().sum()/len(master.index)), 2)"
   ]
  },
  {
   "cell_type": "code",
   "execution_count": 23,
   "id": "3d1862e5",
   "metadata": {},
   "outputs": [],
   "source": [
    "#dropping columns that are irrelevant to analysis\n",
    "master.drop(columns=[\"homepage_url\",\"funding_round_code\",\"founded_at\",\"state_code\",\"region\",\"city\"],inplace=True)"
   ]
  },
  {
   "cell_type": "code",
   "execution_count": 25,
   "id": "fdec87cf",
   "metadata": {},
   "outputs": [
    {
     "data": {
      "text/html": [
       "<div>\n",
       "<style scoped>\n",
       "    .dataframe tbody tr th:only-of-type {\n",
       "        vertical-align: middle;\n",
       "    }\n",
       "\n",
       "    .dataframe tbody tr th {\n",
       "        vertical-align: top;\n",
       "    }\n",
       "\n",
       "    .dataframe thead th {\n",
       "        text-align: right;\n",
       "    }\n",
       "</style>\n",
       "<table border=\"1\" class=\"dataframe\">\n",
       "  <thead>\n",
       "    <tr style=\"text-align: right;\">\n",
       "      <th></th>\n",
       "      <th>permalink</th>\n",
       "      <th>name</th>\n",
       "      <th>category_list</th>\n",
       "      <th>status</th>\n",
       "      <th>country_code</th>\n",
       "      <th>funding_round_permalink</th>\n",
       "      <th>funding_round_type</th>\n",
       "      <th>funded_at</th>\n",
       "      <th>raised_amount_usd</th>\n",
       "    </tr>\n",
       "  </thead>\n",
       "  <tbody>\n",
       "    <tr>\n",
       "      <th>0</th>\n",
       "      <td>/organization/-fame</td>\n",
       "      <td>#fame</td>\n",
       "      <td>Media</td>\n",
       "      <td>operating</td>\n",
       "      <td>IND</td>\n",
       "      <td>/funding-round/9a01d05418af9f794eebff7ace91f638</td>\n",
       "      <td>venture</td>\n",
       "      <td>2015-05-01</td>\n",
       "      <td>10000000.0</td>\n",
       "    </tr>\n",
       "    <tr>\n",
       "      <th>1</th>\n",
       "      <td>/organization/-qounter</td>\n",
       "      <td>:Qounter</td>\n",
       "      <td>Application Platforms|Real Time|Social Network...</td>\n",
       "      <td>operating</td>\n",
       "      <td>USA</td>\n",
       "      <td>/funding-round/22dacff496eb7acb2b901dec1dfe5633</td>\n",
       "      <td>venture</td>\n",
       "      <td>2014-10-14</td>\n",
       "      <td>NaN</td>\n",
       "    </tr>\n",
       "    <tr>\n",
       "      <th>2</th>\n",
       "      <td>/organization/-qounter</td>\n",
       "      <td>:Qounter</td>\n",
       "      <td>Application Platforms|Real Time|Social Network...</td>\n",
       "      <td>operating</td>\n",
       "      <td>USA</td>\n",
       "      <td>/funding-round/b44fbb94153f6cdef13083530bb48030</td>\n",
       "      <td>seed</td>\n",
       "      <td>2014-01-03</td>\n",
       "      <td>700000.0</td>\n",
       "    </tr>\n",
       "    <tr>\n",
       "      <th>3</th>\n",
       "      <td>/organization/-the-one-of-them-inc-</td>\n",
       "      <td>(THE) ONE of THEM,Inc.</td>\n",
       "      <td>Apps|Games|Mobile</td>\n",
       "      <td>operating</td>\n",
       "      <td>NaN</td>\n",
       "      <td>/funding-round/650b8f704416801069bb178a1418776b</td>\n",
       "      <td>venture</td>\n",
       "      <td>2014-01-30</td>\n",
       "      <td>3406878.0</td>\n",
       "    </tr>\n",
       "    <tr>\n",
       "      <th>4</th>\n",
       "      <td>/organization/0-6-com</td>\n",
       "      <td>0-6.com</td>\n",
       "      <td>Curated Web</td>\n",
       "      <td>operating</td>\n",
       "      <td>CHN</td>\n",
       "      <td>/funding-round/5727accaeaa57461bd22a9bdd945382d</td>\n",
       "      <td>venture</td>\n",
       "      <td>2008-03-19</td>\n",
       "      <td>2000000.0</td>\n",
       "    </tr>\n",
       "  </tbody>\n",
       "</table>\n",
       "</div>"
      ],
      "text/plain": [
       "                             permalink                    name  \\\n",
       "0                  /organization/-fame                   #fame   \n",
       "1               /organization/-qounter                :Qounter   \n",
       "2               /organization/-qounter                :Qounter   \n",
       "3  /organization/-the-one-of-them-inc-  (THE) ONE of THEM,Inc.   \n",
       "4                /organization/0-6-com                 0-6.com   \n",
       "\n",
       "                                       category_list     status country_code  \\\n",
       "0                                              Media  operating          IND   \n",
       "1  Application Platforms|Real Time|Social Network...  operating          USA   \n",
       "2  Application Platforms|Real Time|Social Network...  operating          USA   \n",
       "3                                  Apps|Games|Mobile  operating          NaN   \n",
       "4                                        Curated Web  operating          CHN   \n",
       "\n",
       "                           funding_round_permalink funding_round_type  \\\n",
       "0  /funding-round/9a01d05418af9f794eebff7ace91f638            venture   \n",
       "1  /funding-round/22dacff496eb7acb2b901dec1dfe5633            venture   \n",
       "2  /funding-round/b44fbb94153f6cdef13083530bb48030               seed   \n",
       "3  /funding-round/650b8f704416801069bb178a1418776b            venture   \n",
       "4  /funding-round/5727accaeaa57461bd22a9bdd945382d            venture   \n",
       "\n",
       "    funded_at  raised_amount_usd  \n",
       "0  2015-05-01         10000000.0  \n",
       "1  2014-10-14                NaN  \n",
       "2  2014-01-03           700000.0  \n",
       "3  2014-01-30          3406878.0  \n",
       "4  2008-03-19          2000000.0  "
      ]
     },
     "execution_count": 25,
     "metadata": {},
     "output_type": "execute_result"
    }
   ],
   "source": [
    "master.head()"
   ]
  },
  {
   "cell_type": "code",
   "execution_count": 26,
   "id": "4bfc2901",
   "metadata": {},
   "outputs": [
    {
     "data": {
      "text/plain": [
       "permalink                   0.00\n",
       "name                        0.00\n",
       "category_list               2.97\n",
       "status                      0.00\n",
       "country_code                7.55\n",
       "funding_round_permalink     0.00\n",
       "funding_round_type          0.00\n",
       "funded_at                   0.00\n",
       "raised_amount_usd          17.39\n",
       "dtype: float64"
      ]
     },
     "execution_count": 26,
     "metadata": {},
     "output_type": "execute_result"
    }
   ],
   "source": [
    "# summing up the missing values (column-wise) and displaying fraction of NaNs\n",
    "round(100*(master.isnull().sum()/len(master.index)), 2)"
   ]
  },
  {
   "cell_type": "markdown",
   "id": "af55783e",
   "metadata": {},
   "source": [
    "The column raised_amount_usd is an important column and needs to be treated carefully. The column country_code is used for country wise analysis"
   ]
  },
  {
   "cell_type": "code",
   "execution_count": 28,
   "id": "d7cdcd48",
   "metadata": {},
   "outputs": [
    {
     "data": {
      "text/plain": [
       "count    9.495900e+04\n",
       "mean     1.042687e+07\n",
       "std      1.148212e+08\n",
       "min      0.000000e+00\n",
       "25%      3.225000e+05\n",
       "50%      1.680511e+06\n",
       "75%      7.000000e+06\n",
       "max      2.127194e+10\n",
       "Name: raised_amount_usd, dtype: float64"
      ]
     },
     "execution_count": 28,
     "metadata": {},
     "output_type": "execute_result"
    }
   ],
   "source": [
    "master.raised_amount_usd.describe()"
   ]
  },
  {
   "cell_type": "code",
   "execution_count": 36,
   "id": "9a46d970",
   "metadata": {},
   "outputs": [
    {
     "name": "stderr",
     "output_type": "stream",
     "text": [
      "C:\\Users\\riddh\\Anaconda3\\lib\\site-packages\\seaborn\\distributions.py:2557: FutureWarning: `distplot` is a deprecated function and will be removed in a future version. Please adapt your code to use either `displot` (a figure-level function with similar flexibility) or `histplot` (an axes-level function for histograms).\n",
      "  warnings.warn(msg, FutureWarning)\n"
     ]
    },
    {
     "data": {
      "text/plain": [
       "<AxesSubplot:xlabel='raised_amount_usd', ylabel='Density'>"
      ]
     },
     "execution_count": 36,
     "metadata": {},
     "output_type": "execute_result"
    },
    {
     "data": {
      "image/png": "[encoded data removed]",
      "text/plain": [
       "<Figure size 1080x360 with 1 Axes>"
      ]
     },
     "metadata": {
      "needs_background": "light"
     },
     "output_type": "display_data"
    }
   ],
   "source": [
    "plt.figure(figsize=(15,5))\n",
    "sns.distplot(master.raised_amount_usd)"
   ]
  },
  {
   "cell_type": "code",
   "execution_count": 37,
   "id": "66f3fce5",
   "metadata": {},
   "outputs": [
    {
     "name": "stderr",
     "output_type": "stream",
     "text": [
      "C:\\Users\\riddh\\Anaconda3\\lib\\site-packages\\seaborn\\_decorators.py:36: FutureWarning: Pass the following variable as a keyword arg: x. From version 0.12, the only valid positional argument will be `data`, and passing other arguments without an explicit keyword will result in an error or misinterpretation.\n",
      "  warnings.warn(\n"
     ]
    },
    {
     "data": {
      "text/plain": [
       "<AxesSubplot:xlabel='raised_amount_usd'>"
      ]
     },
     "execution_count": 37,
     "metadata": {},
     "output_type": "execute_result"
    },
    {
     "data": {
      "image/png": "[encoded data removed]",
      "text/plain": [
       "<Figure size 1080x360 with 1 Axes>"
      ]
     },
     "metadata": {
      "needs_background": "light"
     },
     "output_type": "display_data"
    }
   ],
   "source": [
    "plt.figure(figsize=(15,5))\n",
    "sns.boxplot(master.raised_amount_usd)"
   ]
  },
  {
   "cell_type": "markdown",
   "id": "b827f1da",
   "metadata": {},
   "source": [
    "There is huge diff between min max, mean and median. It will be inappropriate to impute it with a metric such as median or mean. Also, since we have quite a large number of observations, it is wiser to just drop the rows."
   ]
  },
  {
   "cell_type": "code",
   "execution_count": 38,
   "id": "e9609a17",
   "metadata": {},
   "outputs": [],
   "source": [
    "master=master[~np.isnan(master['raised_amount_usd'])]"
   ]
  },
  {
   "cell_type": "code",
   "execution_count": 39,
   "id": "5ea999ec",
   "metadata": {},
   "outputs": [
    {
     "data": {
      "text/plain": [
       "permalink                  0.00\n",
       "name                       0.00\n",
       "category_list              1.10\n",
       "status                     0.00\n",
       "country_code               6.16\n",
       "funding_round_permalink    0.00\n",
       "funding_round_type         0.00\n",
       "funded_at                  0.00\n",
       "raised_amount_usd          0.00\n",
       "dtype: float64"
      ]
     },
     "execution_count": 39,
     "metadata": {},
     "output_type": "execute_result"
    }
   ],
   "source": [
    "# summing up the missing values (column-wise) and displaying fraction of NaNs\n",
    "round(100*(master.isnull().sum()/len(master.index)), 2)"
   ]
  },
  {
   "cell_type": "code",
   "execution_count": 44,
   "id": "c8428de8",
   "metadata": {},
   "outputs": [
    {
     "data": {
      "text/plain": [
       "USA    65.342937\n",
       "GBR     5.285439\n",
       "CAN     2.754873\n",
       "CHN     2.029297\n",
       "IND     1.736539\n",
       "         ...    \n",
       "HND     0.001053\n",
       "GGY     0.001053\n",
       "TGO     0.001053\n",
       "MNE     0.001053\n",
       "SEN     0.001053\n",
       "Name: country_code, Length: 134, dtype: float64"
      ]
     },
     "execution_count": 44,
     "metadata": {},
     "output_type": "execute_result"
    }
   ],
   "source": [
    "(master['country_code'].value_counts()/len(master.index))*100"
   ]
  },
  {
   "cell_type": "markdown",
   "id": "fde68f7e",
   "metadata": {},
   "source": [
    "Most of the investments has happened in USA. We can either fill NA values with USA or we can remove the rows having NA"
   ]
  },
  {
   "cell_type": "code",
   "execution_count": 45,
   "id": "1e1bc6d3",
   "metadata": {},
   "outputs": [],
   "source": [
    "#removing rows having NA values\n",
    "master = master[~pd.isnull(master['country_code'])]"
   ]
  },
  {
   "cell_type": "code",
   "execution_count": 46,
   "id": "71d04c8d",
   "metadata": {},
   "outputs": [
    {
     "data": {
      "text/html": [
       "<div>\n",
       "<style scoped>\n",
       "    .dataframe tbody tr th:only-of-type {\n",
       "        vertical-align: middle;\n",
       "    }\n",
       "\n",
       "    .dataframe tbody tr th {\n",
       "        vertical-align: top;\n",
       "    }\n",
       "\n",
       "    .dataframe thead th {\n",
       "        text-align: right;\n",
       "    }\n",
       "</style>\n",
       "<table border=\"1\" class=\"dataframe\">\n",
       "  <thead>\n",
       "    <tr style=\"text-align: right;\">\n",
       "      <th></th>\n",
       "      <th>permalink</th>\n",
       "      <th>name</th>\n",
       "      <th>category_list</th>\n",
       "      <th>status</th>\n",
       "      <th>country_code</th>\n",
       "      <th>funding_round_permalink</th>\n",
       "      <th>funding_round_type</th>\n",
       "      <th>funded_at</th>\n",
       "      <th>raised_amount_usd</th>\n",
       "    </tr>\n",
       "  </thead>\n",
       "  <tbody>\n",
       "    <tr>\n",
       "      <th>0</th>\n",
       "      <td>/organization/-fame</td>\n",
       "      <td>#fame</td>\n",
       "      <td>Media</td>\n",
       "      <td>operating</td>\n",
       "      <td>IND</td>\n",
       "      <td>/funding-round/9a01d05418af9f794eebff7ace91f638</td>\n",
       "      <td>venture</td>\n",
       "      <td>2015-05-01</td>\n",
       "      <td>10000000.0</td>\n",
       "    </tr>\n",
       "    <tr>\n",
       "      <th>2</th>\n",
       "      <td>/organization/-qounter</td>\n",
       "      <td>:Qounter</td>\n",
       "      <td>Application Platforms|Real Time|Social Network...</td>\n",
       "      <td>operating</td>\n",
       "      <td>USA</td>\n",
       "      <td>/funding-round/b44fbb94153f6cdef13083530bb48030</td>\n",
       "      <td>seed</td>\n",
       "      <td>2014-01-03</td>\n",
       "      <td>700000.0</td>\n",
       "    </tr>\n",
       "    <tr>\n",
       "      <th>4</th>\n",
       "      <td>/organization/0-6-com</td>\n",
       "      <td>0-6.com</td>\n",
       "      <td>Curated Web</td>\n",
       "      <td>operating</td>\n",
       "      <td>CHN</td>\n",
       "      <td>/funding-round/5727accaeaa57461bd22a9bdd945382d</td>\n",
       "      <td>venture</td>\n",
       "      <td>2008-03-19</td>\n",
       "      <td>2000000.0</td>\n",
       "    </tr>\n",
       "    <tr>\n",
       "      <th>6</th>\n",
       "      <td>/organization/01games-technology</td>\n",
       "      <td>01Games Technology</td>\n",
       "      <td>Games</td>\n",
       "      <td>operating</td>\n",
       "      <td>HKG</td>\n",
       "      <td>/funding-round/7d53696f2b4f607a2f2a8cbb83d01839</td>\n",
       "      <td>undisclosed</td>\n",
       "      <td>2014-01-07</td>\n",
       "      <td>41250.0</td>\n",
       "    </tr>\n",
       "    <tr>\n",
       "      <th>7</th>\n",
       "      <td>/organization/0ndine-biomedical-inc</td>\n",
       "      <td>Ondine Biomedical Inc.</td>\n",
       "      <td>Biotechnology</td>\n",
       "      <td>operating</td>\n",
       "      <td>CAN</td>\n",
       "      <td>/funding-round/2b9d3ac293d5cdccbecff5c8cb0f327d</td>\n",
       "      <td>seed</td>\n",
       "      <td>2009-11-09</td>\n",
       "      <td>43360.0</td>\n",
       "    </tr>\n",
       "  </tbody>\n",
       "</table>\n",
       "</div>"
      ],
      "text/plain": [
       "                             permalink                    name  \\\n",
       "0                  /organization/-fame                   #fame   \n",
       "2               /organization/-qounter                :Qounter   \n",
       "4                /organization/0-6-com                 0-6.com   \n",
       "6     /organization/01games-technology      01Games Technology   \n",
       "7  /organization/0ndine-biomedical-inc  Ondine Biomedical Inc.   \n",
       "\n",
       "                                       category_list     status country_code  \\\n",
       "0                                              Media  operating          IND   \n",
       "2  Application Platforms|Real Time|Social Network...  operating          USA   \n",
       "4                                        Curated Web  operating          CHN   \n",
       "6                                              Games  operating          HKG   \n",
       "7                                      Biotechnology  operating          CAN   \n",
       "\n",
       "                           funding_round_permalink funding_round_type  \\\n",
       "0  /funding-round/9a01d05418af9f794eebff7ace91f638            venture   \n",
       "2  /funding-round/b44fbb94153f6cdef13083530bb48030               seed   \n",
       "4  /funding-round/5727accaeaa57461bd22a9bdd945382d            venture   \n",
       "6  /funding-round/7d53696f2b4f607a2f2a8cbb83d01839        undisclosed   \n",
       "7  /funding-round/2b9d3ac293d5cdccbecff5c8cb0f327d               seed   \n",
       "\n",
       "    funded_at  raised_amount_usd  \n",
       "0  2015-05-01         10000000.0  \n",
       "2  2014-01-03           700000.0  \n",
       "4  2008-03-19          2000000.0  \n",
       "6  2014-01-07            41250.0  \n",
       "7  2009-11-09            43360.0  "
      ]
     },
     "execution_count": 46,
     "metadata": {},
     "output_type": "execute_result"
    }
   ],
   "source": [
    "master.head()"
   ]
  },
  {
   "cell_type": "code",
   "execution_count": 47,
   "id": "5c49c6d3",
   "metadata": {},
   "outputs": [
    {
     "data": {
      "text/plain": [
       "permalink                  0.00\n",
       "name                       0.00\n",
       "category_list              0.65\n",
       "status                     0.00\n",
       "country_code               0.00\n",
       "funding_round_permalink    0.00\n",
       "funding_round_type         0.00\n",
       "funded_at                  0.00\n",
       "raised_amount_usd          0.00\n",
       "dtype: float64"
      ]
     },
     "execution_count": 47,
     "metadata": {},
     "output_type": "execute_result"
    }
   ],
   "source": [
    "# summing up the missing values (column-wise) and displaying fraction of NaNs\n",
    "round(100*(master.isnull().sum()/len(master.index)), 2)"
   ]
  },
  {
   "cell_type": "markdown",
   "id": "d33e5458",
   "metadata": {},
   "source": [
    "There is a small fraction of category_list data missing. We should remove that also"
   ]
  },
  {
   "cell_type": "code",
   "execution_count": 48,
   "id": "5667fe0c",
   "metadata": {},
   "outputs": [],
   "source": [
    "#removing rows having NA values\n",
    "master = master[~pd.isnull(master['category_list'])]"
   ]
  },
  {
   "cell_type": "code",
   "execution_count": 49,
   "id": "85636801",
   "metadata": {},
   "outputs": [
    {
     "data": {
      "text/plain": [
       "permalink                  0.0\n",
       "name                       0.0\n",
       "category_list              0.0\n",
       "status                     0.0\n",
       "country_code               0.0\n",
       "funding_round_permalink    0.0\n",
       "funding_round_type         0.0\n",
       "funded_at                  0.0\n",
       "raised_amount_usd          0.0\n",
       "dtype: float64"
      ]
     },
     "execution_count": 49,
     "metadata": {},
     "output_type": "execute_result"
    }
   ],
   "source": [
    "# summing up the missing values (column-wise) and displaying fraction of NaNs\n",
    "round(100*(master.isnull().sum()/len(master.index)), 2)"
   ]
  },
  {
   "cell_type": "code",
   "execution_count": 50,
   "id": "f00bed66",
   "metadata": {},
   "outputs": [
    {
     "data": {
      "text/html": [
       "<div>\n",
       "<style scoped>\n",
       "    .dataframe tbody tr th:only-of-type {\n",
       "        vertical-align: middle;\n",
       "    }\n",
       "\n",
       "    .dataframe tbody tr th {\n",
       "        vertical-align: top;\n",
       "    }\n",
       "\n",
       "    .dataframe thead th {\n",
       "        text-align: right;\n",
       "    }\n",
       "</style>\n",
       "<table border=\"1\" class=\"dataframe\">\n",
       "  <thead>\n",
       "    <tr style=\"text-align: right;\">\n",
       "      <th></th>\n",
       "      <th>permalink</th>\n",
       "      <th>name</th>\n",
       "      <th>category_list</th>\n",
       "      <th>status</th>\n",
       "      <th>country_code</th>\n",
       "      <th>funding_round_permalink</th>\n",
       "      <th>funding_round_type</th>\n",
       "      <th>funded_at</th>\n",
       "      <th>raised_amount_usd</th>\n",
       "    </tr>\n",
       "  </thead>\n",
       "  <tbody>\n",
       "    <tr>\n",
       "      <th>0</th>\n",
       "      <td>/organization/-fame</td>\n",
       "      <td>#fame</td>\n",
       "      <td>Media</td>\n",
       "      <td>operating</td>\n",
       "      <td>IND</td>\n",
       "      <td>/funding-round/9a01d05418af9f794eebff7ace91f638</td>\n",
       "      <td>venture</td>\n",
       "      <td>2015-05-01</td>\n",
       "      <td>10000000.0</td>\n",
       "    </tr>\n",
       "    <tr>\n",
       "      <th>2</th>\n",
       "      <td>/organization/-qounter</td>\n",
       "      <td>:Qounter</td>\n",
       "      <td>Application Platforms|Real Time|Social Network...</td>\n",
       "      <td>operating</td>\n",
       "      <td>USA</td>\n",
       "      <td>/funding-round/b44fbb94153f6cdef13083530bb48030</td>\n",
       "      <td>seed</td>\n",
       "      <td>2014-01-03</td>\n",
       "      <td>700000.0</td>\n",
       "    </tr>\n",
       "    <tr>\n",
       "      <th>4</th>\n",
       "      <td>/organization/0-6-com</td>\n",
       "      <td>0-6.com</td>\n",
       "      <td>Curated Web</td>\n",
       "      <td>operating</td>\n",
       "      <td>CHN</td>\n",
       "      <td>/funding-round/5727accaeaa57461bd22a9bdd945382d</td>\n",
       "      <td>venture</td>\n",
       "      <td>2008-03-19</td>\n",
       "      <td>2000000.0</td>\n",
       "    </tr>\n",
       "    <tr>\n",
       "      <th>6</th>\n",
       "      <td>/organization/01games-technology</td>\n",
       "      <td>01Games Technology</td>\n",
       "      <td>Games</td>\n",
       "      <td>operating</td>\n",
       "      <td>HKG</td>\n",
       "      <td>/funding-round/7d53696f2b4f607a2f2a8cbb83d01839</td>\n",
       "      <td>undisclosed</td>\n",
       "      <td>2014-01-07</td>\n",
       "      <td>41250.0</td>\n",
       "    </tr>\n",
       "    <tr>\n",
       "      <th>7</th>\n",
       "      <td>/organization/0ndine-biomedical-inc</td>\n",
       "      <td>Ondine Biomedical Inc.</td>\n",
       "      <td>Biotechnology</td>\n",
       "      <td>operating</td>\n",
       "      <td>CAN</td>\n",
       "      <td>/funding-round/2b9d3ac293d5cdccbecff5c8cb0f327d</td>\n",
       "      <td>seed</td>\n",
       "      <td>2009-11-09</td>\n",
       "      <td>43360.0</td>\n",
       "    </tr>\n",
       "  </tbody>\n",
       "</table>\n",
       "</div>"
      ],
      "text/plain": [
       "                             permalink                    name  \\\n",
       "0                  /organization/-fame                   #fame   \n",
       "2               /organization/-qounter                :Qounter   \n",
       "4                /organization/0-6-com                 0-6.com   \n",
       "6     /organization/01games-technology      01Games Technology   \n",
       "7  /organization/0ndine-biomedical-inc  Ondine Biomedical Inc.   \n",
       "\n",
       "                                       category_list     status country_code  \\\n",
       "0                                              Media  operating          IND   \n",
       "2  Application Platforms|Real Time|Social Network...  operating          USA   \n",
       "4                                        Curated Web  operating          CHN   \n",
       "6                                              Games  operating          HKG   \n",
       "7                                      Biotechnology  operating          CAN   \n",
       "\n",
       "                           funding_round_permalink funding_round_type  \\\n",
       "0  /funding-round/9a01d05418af9f794eebff7ace91f638            venture   \n",
       "2  /funding-round/b44fbb94153f6cdef13083530bb48030               seed   \n",
       "4  /funding-round/5727accaeaa57461bd22a9bdd945382d            venture   \n",
       "6  /funding-round/7d53696f2b4f607a2f2a8cbb83d01839        undisclosed   \n",
       "7  /funding-round/2b9d3ac293d5cdccbecff5c8cb0f327d               seed   \n",
       "\n",
       "    funded_at  raised_amount_usd  \n",
       "0  2015-05-01         10000000.0  \n",
       "2  2014-01-03           700000.0  \n",
       "4  2008-03-19          2000000.0  \n",
       "6  2014-01-07            41250.0  \n",
       "7  2009-11-09            43360.0  "
      ]
     },
     "execution_count": 50,
     "metadata": {},
     "output_type": "execute_result"
    }
   ],
   "source": [
    "master.head()"
   ]
  },
  {
   "cell_type": "code",
   "execution_count": 52,
   "id": "ac413baf",
   "metadata": {},
   "outputs": [],
   "source": [
    "master.to_csv(\"master_df.csv\",sep=\",\",index=False)"
   ]
  },
  {
   "cell_type": "code",
   "execution_count": 53,
   "id": "45ffab29",
   "metadata": {},
   "outputs": [
    {
     "data": {
      "text/html": [
       "<div>\n",
       "<style scoped>\n",
       "    .dataframe tbody tr th:only-of-type {\n",
       "        vertical-align: middle;\n",
       "    }\n",
       "\n",
       "    .dataframe tbody tr th {\n",
       "        vertical-align: top;\n",
       "    }\n",
       "\n",
       "    .dataframe thead th {\n",
       "        text-align: right;\n",
       "    }\n",
       "</style>\n",
       "<table border=\"1\" class=\"dataframe\">\n",
       "  <thead>\n",
       "    <tr style=\"text-align: right;\">\n",
       "      <th></th>\n",
       "      <th>permalink</th>\n",
       "      <th>name</th>\n",
       "      <th>category_list</th>\n",
       "      <th>status</th>\n",
       "      <th>country_code</th>\n",
       "      <th>funding_round_permalink</th>\n",
       "      <th>funding_round_type</th>\n",
       "      <th>funded_at</th>\n",
       "      <th>raised_amount_usd</th>\n",
       "    </tr>\n",
       "  </thead>\n",
       "  <tbody>\n",
       "    <tr>\n",
       "      <th>0</th>\n",
       "      <td>/organization/-fame</td>\n",
       "      <td>#fame</td>\n",
       "      <td>Media</td>\n",
       "      <td>operating</td>\n",
       "      <td>IND</td>\n",
       "      <td>/funding-round/9a01d05418af9f794eebff7ace91f638</td>\n",
       "      <td>venture</td>\n",
       "      <td>2015-05-01</td>\n",
       "      <td>10000000.0</td>\n",
       "    </tr>\n",
       "    <tr>\n",
       "      <th>2</th>\n",
       "      <td>/organization/-qounter</td>\n",
       "      <td>:Qounter</td>\n",
       "      <td>Application Platforms|Real Time|Social Network...</td>\n",
       "      <td>operating</td>\n",
       "      <td>USA</td>\n",
       "      <td>/funding-round/b44fbb94153f6cdef13083530bb48030</td>\n",
       "      <td>seed</td>\n",
       "      <td>2014-01-03</td>\n",
       "      <td>700000.0</td>\n",
       "    </tr>\n",
       "    <tr>\n",
       "      <th>4</th>\n",
       "      <td>/organization/0-6-com</td>\n",
       "      <td>0-6.com</td>\n",
       "      <td>Curated Web</td>\n",
       "      <td>operating</td>\n",
       "      <td>CHN</td>\n",
       "      <td>/funding-round/5727accaeaa57461bd22a9bdd945382d</td>\n",
       "      <td>venture</td>\n",
       "      <td>2008-03-19</td>\n",
       "      <td>2000000.0</td>\n",
       "    </tr>\n",
       "    <tr>\n",
       "      <th>6</th>\n",
       "      <td>/organization/01games-technology</td>\n",
       "      <td>01Games Technology</td>\n",
       "      <td>Games</td>\n",
       "      <td>operating</td>\n",
       "      <td>HKG</td>\n",
       "      <td>/funding-round/7d53696f2b4f607a2f2a8cbb83d01839</td>\n",
       "      <td>undisclosed</td>\n",
       "      <td>2014-01-07</td>\n",
       "      <td>41250.0</td>\n",
       "    </tr>\n",
       "    <tr>\n",
       "      <th>7</th>\n",
       "      <td>/organization/0ndine-biomedical-inc</td>\n",
       "      <td>Ondine Biomedical Inc.</td>\n",
       "      <td>Biotechnology</td>\n",
       "      <td>operating</td>\n",
       "      <td>CAN</td>\n",
       "      <td>/funding-round/2b9d3ac293d5cdccbecff5c8cb0f327d</td>\n",
       "      <td>seed</td>\n",
       "      <td>2009-11-09</td>\n",
       "      <td>43360.0</td>\n",
       "    </tr>\n",
       "  </tbody>\n",
       "</table>\n",
       "</div>"
      ],
      "text/plain": [
       "                             permalink                    name  \\\n",
       "0                  /organization/-fame                   #fame   \n",
       "2               /organization/-qounter                :Qounter   \n",
       "4                /organization/0-6-com                 0-6.com   \n",
       "6     /organization/01games-technology      01Games Technology   \n",
       "7  /organization/0ndine-biomedical-inc  Ondine Biomedical Inc.   \n",
       "\n",
       "                                       category_list     status country_code  \\\n",
       "0                                              Media  operating          IND   \n",
       "2  Application Platforms|Real Time|Social Network...  operating          USA   \n",
       "4                                        Curated Web  operating          CHN   \n",
       "6                                              Games  operating          HKG   \n",
       "7                                      Biotechnology  operating          CAN   \n",
       "\n",
       "                           funding_round_permalink funding_round_type  \\\n",
       "0  /funding-round/9a01d05418af9f794eebff7ace91f638            venture   \n",
       "2  /funding-round/b44fbb94153f6cdef13083530bb48030               seed   \n",
       "4  /funding-round/5727accaeaa57461bd22a9bdd945382d            venture   \n",
       "6  /funding-round/7d53696f2b4f607a2f2a8cbb83d01839        undisclosed   \n",
       "7  /funding-round/2b9d3ac293d5cdccbecff5c8cb0f327d               seed   \n",
       "\n",
       "    funded_at  raised_amount_usd  \n",
       "0  2015-05-01         10000000.0  \n",
       "2  2014-01-03           700000.0  \n",
       "4  2008-03-19          2000000.0  \n",
       "6  2014-01-07            41250.0  \n",
       "7  2009-11-09            43360.0  "
      ]
     },
     "execution_count": 53,
     "metadata": {},
     "output_type": "execute_result"
    }
   ],
   "source": [
    "master.head()"
   ]
  },
  {
   "cell_type": "code",
   "execution_count": null,
   "id": "94d9ca9e",
   "metadata": {},
   "outputs": [],
   "source": []
  }
 ],
 "metadata": {
  "kernelspec": {
   "display_name": "Python 3",
   "language": "python",
   "name": "python3"
  },
  "language_info": {
   "codemirror_mode": {
    "name": "ipython",
    "version": 3
   },
   "file_extension": ".py",
   "mimetype": "text/x-python",
   "name": "python",
   "nbconvert_exporter": "python",
   "pygments_lexer": "ipython3",
   "version": "3.8.8"
  }
 },
 "nbformat": 4,
 "nbformat_minor": 5
}
